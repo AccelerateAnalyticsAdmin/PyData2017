{
 "cells": [
  {
   "cell_type": "markdown",
   "metadata": {},
   "source": [
    "# Messing with matrices\n",
    "\n",
    "### (and if you get the subliminal message about abstractions, excellent!)"
   ]
  },
  {
   "cell_type": "markdown",
   "metadata": {},
   "source": [
    "Julia is a dynamic language.  You don't need type declarations, and can change variable types dynamically and interactively.\n",
    "\n",
    "For working with simple numbers, arrays, and strings, its syntax is *superficially* similar to Matlab, Python, and other popular languages.\n",
    "\n",
    "In order to execute the `In` cells, select the cell and press `Shift-Enter`, or press the `Play` button above. To run the entire notebook, navigate to the `Cell` menu and then `Run All`."
   ]
  },
  {
   "cell_type": "markdown",
   "metadata": {},
   "source": [
    "## Julia is not so different from your favorite dynamic language"
   ]
  },
  {
   "cell_type": "code",
   "execution_count": null,
   "metadata": {},
   "outputs": [],
   "source": [
    "1+1"
   ]
  },
  {
   "cell_type": "code",
   "execution_count": null,
   "metadata": {},
   "outputs": [],
   "source": [
    "typeof(1.0) # shift + enter executes cells"
   ]
  },
  {
   "cell_type": "code",
   "execution_count": null,
   "metadata": {},
   "outputs": [],
   "source": [
    "typeof(1)"
   ]
  },
  {
   "cell_type": "code",
   "execution_count": null,
   "metadata": {},
   "outputs": [],
   "source": [
    "S = \"Hello Julia Clsas\"\n",
    "typeof(S)"
   ]
  },
  {
   "cell_type": "code",
   "execution_count": null,
   "metadata": {},
   "outputs": [],
   "source": [
    "#  Exercise fix my spelling in the cell above\n",
    "S"
   ]
  },
  {
   "cell_type": "code",
   "execution_count": null,
   "metadata": {
    "collapsed": true
   },
   "outputs": [],
   "source": [
    "1 + 1  # shift + enter to run"
   ]
  },
  {
   "cell_type": "code",
   "execution_count": null,
   "metadata": {},
   "outputs": [],
   "source": [
    "A = rand(5, 5)"
   ]
  },
  {
   "cell_type": "code",
   "execution_count": null,
   "metadata": {},
   "outputs": [],
   "source": [
    "A = SymTridiagonal(rand(6), rand(5))"
   ]
  },
  {
   "cell_type": "code",
   "execution_count": null,
   "metadata": {},
   "outputs": [],
   "source": [
    "b = rand(6)\n",
    "A \\ b  # solves Ax=b"
   ]
  },
  {
   "cell_type": "code",
   "execution_count": null,
   "metadata": {},
   "outputs": [],
   "source": [
    "# Householder Notation\n",
    "# Matrices are capital roman letters :  A,B, M, P\n",
    "# vectors are small roman letters : a,b, x,y\n",
    "# scalars greek α, β,  ... π   ( \\alpha + <tab> )\n",
    "\n",
    "α = 100\n",
    "√α\n",
    "π\n",
    "a = rand(5)"
   ]
  },
  {
   "cell_type": "code",
   "execution_count": null,
   "metadata": {
    "collapsed": true
   },
   "outputs": [],
   "source": [
    "A = fill(3.15, 5, 5) # Fill a 5x5 array"
   ]
  },
  {
   "cell_type": "markdown",
   "metadata": {},
   "source": [
    "# Let's create some addition tables"
   ]
  },
  {
   "cell_type": "markdown",
   "metadata": {},
   "source": [
    "First let's use a nested for loop to fill in a matrix that's initially zero:"
   ]
  },
  {
   "cell_type": "code",
   "execution_count": null,
   "metadata": {
    "collapsed": true
   },
   "outputs": [],
   "source": [
    "A = zeros(5, 5)\n",
    "\n",
    "for i = 1:5\n",
    "    for j = 1:5\n",
    "        A[i,j] = i+j  # Square brackets for indexing, indices start at 1 not 0.\n",
    "    end\n",
    "end\n",
    "\n",
    "A"
   ]
  },
  {
   "cell_type": "markdown",
   "metadata": {},
   "source": [
    "We can abbreviate this using a double `for` loop:"
   ]
  },
  {
   "cell_type": "code",
   "execution_count": null,
   "metadata": {
    "collapsed": true
   },
   "outputs": [],
   "source": [
    "for i = 1:5, j = 1:5\n",
    "   A[i,j] = i+j  # Square brackets for indexing, indices start at 1 not 0.\n",
    "end\n",
    "\n",
    "A"
   ]
  },
  {
   "cell_type": "markdown",
   "metadata": {},
   "source": [
    "The Julia way would be to use a so-called **array comprehension**:"
   ]
  },
  {
   "cell_type": "code",
   "execution_count": null,
   "metadata": {
    "collapsed": true
   },
   "outputs": [],
   "source": [
    "[i+j for i=1:5, j=1:5]"
   ]
  },
  {
   "cell_type": "markdown",
   "metadata": {},
   "source": [
    "**Explore**: What does the following do? "
   ]
  },
  {
   "cell_type": "code",
   "execution_count": null,
   "metadata": {
    "collapsed": true
   },
   "outputs": [],
   "source": [
    "[100i for i in (1:7).^2]"
   ]
  },
  {
   "cell_type": "markdown",
   "metadata": {},
   "source": [
    "**Explore**: What does the following do? "
   ]
  },
  {
   "cell_type": "code",
   "execution_count": null,
   "metadata": {
    "collapsed": true
   },
   "outputs": [],
   "source": [
    "sort(unique(x^2 + y^2 for x in 1:5, y in 1:5))\n",
    "# The inner parentheses define a _generator_"
   ]
  },
  {
   "cell_type": "markdown",
   "metadata": {},
   "source": [
    "Suppose we want to see $n \\times n$ multiplication tables for $n=1,2,3,4,5$:"
   ]
  },
  {
   "cell_type": "code",
   "execution_count": null,
   "metadata": {
    "collapsed": true
   },
   "outputs": [],
   "source": [
    "for n = 1:5\n",
    "    display([i*j for i=1:n, j=1:n])\n",
    "end"
   ]
  },
  {
   "cell_type": "markdown",
   "metadata": {},
   "source": [
    "# `Interact.jl`: a Julia *package* for interactive data"
   ]
  },
  {
   "cell_type": "markdown",
   "metadata": {},
   "source": [
    "It's way more fun to **interact** with our data.\n",
    "We install the `Interact.jl` package as follows; this needs to be executed only once for any given Julia installation:"
   ]
  },
  {
   "cell_type": "code",
   "execution_count": null,
   "metadata": {},
   "outputs": [],
   "source": [
    "Pkg.add(\"Interact\")"
   ]
  },
  {
   "cell_type": "markdown",
   "metadata": {},
   "source": [
    "Now we load the package with the following `using` command, in each Julia session:"
   ]
  },
  {
   "cell_type": "code",
   "execution_count": null,
   "metadata": {},
   "outputs": [],
   "source": [
    "using Interact"
   ]
  },
  {
   "cell_type": "markdown",
   "metadata": {},
   "source": [
    "The package contains a `@manipulate` macro, that is wrapped around a `for` loop:"
   ]
  },
  {
   "cell_type": "code",
   "execution_count": null,
   "metadata": {},
   "outputs": [],
   "source": [
    "@manipulate for n = 1:1000\n",
    "    n\n",
    "end"
   ]
  },
  {
   "cell_type": "code",
   "execution_count": null,
   "metadata": {},
   "outputs": [],
   "source": [
    "@manipulate for n=1:20\n",
    "    [i*j for i=1:n, j=1:n]\n",
    "end"
   ]
  },
  {
   "cell_type": "markdown",
   "metadata": {},
   "source": [
    "We use a double `for` loop to get a double slider!"
   ]
  },
  {
   "cell_type": "code",
   "execution_count": null,
   "metadata": {},
   "outputs": [],
   "source": [
    "@manipulate for n=3:10, i=1:9\n",
    "   A = fill(0, n, n)\n",
    "   A[1:3, 1:3] = i    # fill a sub-block\n",
    "A\n",
    "end"
   ]
  },
  {
   "cell_type": "markdown",
   "metadata": {},
   "source": [
    "# Functions"
   ]
  },
  {
   "cell_type": "markdown",
   "metadata": {},
   "source": [
    "Julia is built around functions: all \"commands\" or \"operations\" in Julia are functions:"
   ]
  },
  {
   "cell_type": "code",
   "execution_count": null,
   "metadata": {
    "collapsed": true
   },
   "outputs": [],
   "source": [
    "# verbose form:\n",
    "function f(x)\n",
    "    x^2\n",
    "end\n",
    "\n",
    "# one-line form:\n",
    "f2(x) = x^2\n",
    "\n",
    "# anonymous form:\n",
    "f3 = x -> x^2;"
   ]
  },
  {
   "cell_type": "code",
   "execution_count": null,
   "metadata": {
    "collapsed": true
   },
   "outputs": [],
   "source": [
    "f(10)"
   ]
  },
  {
   "cell_type": "markdown",
   "metadata": {},
   "source": [
    "Functions just work, as long as they make sense:"
   ]
  },
  {
   "cell_type": "code",
   "execution_count": null,
   "metadata": {
    "collapsed": true
   },
   "outputs": [],
   "source": [
    "f(rand(3, 3))"
   ]
  },
  {
   "cell_type": "code",
   "execution_count": null,
   "metadata": {
    "collapsed": true
   },
   "outputs": [],
   "source": [
    "function f(x, power=2) # default argument\n",
    "    x^power\n",
    "end"
   ]
  },
  {
   "cell_type": "code",
   "execution_count": null,
   "metadata": {
    "collapsed": true
   },
   "outputs": [],
   "source": [
    "f(7)"
   ]
  },
  {
   "cell_type": "code",
   "execution_count": null,
   "metadata": {
    "collapsed": true
   },
   "outputs": [],
   "source": [
    "f(10,3)"
   ]
  },
  {
   "cell_type": "markdown",
   "metadata": {},
   "source": [
    "Let's define a function to insert a block in a matrix:"
   ]
  },
  {
   "cell_type": "code",
   "execution_count": null,
   "metadata": {},
   "outputs": [],
   "source": [
    "function insert_block(A, i, j, what=7)\n",
    "    B = copy(A)\n",
    "    B[i:i+2, j:j+2] = fill(what, 3, 3)\n",
    "    \n",
    "    return B          # the `return` keyword is optional, last value is returned\n",
    "end"
   ]
  },
  {
   "cell_type": "code",
   "execution_count": null,
   "metadata": {},
   "outputs": [],
   "source": [
    "A = fill(0, 9, 9)\n",
    "insert_block(A, 3, 5)  # this returns the new matrix"
   ]
  },
  {
   "cell_type": "code",
   "execution_count": null,
   "metadata": {},
   "outputs": [],
   "source": [
    "A = fill(0, 9, 9)\n",
    "insert_block(A, 3, 5, 2)  # Use 2 instead of 7"
   ]
  },
  {
   "cell_type": "markdown",
   "metadata": {},
   "source": [
    "We can move the block around:"
   ]
  },
  {
   "cell_type": "code",
   "execution_count": null,
   "metadata": {},
   "outputs": [],
   "source": [
    "A = fill(0, 10, 10)\n",
    "n = size(A, 1)\n",
    "\n",
    "@manipulate for i in 1:n-2, j in 1:n-2\n",
    "    insert_block(A, i, j)\n",
    "end"
   ]
  },
  {
   "cell_type": "markdown",
   "metadata": {},
   "source": [
    "# Strings"
   ]
  },
  {
   "cell_type": "markdown",
   "metadata": {},
   "source": [
    "Julia can manipulate strings easily:"
   ]
  },
  {
   "cell_type": "code",
   "execution_count": null,
   "metadata": {},
   "outputs": [],
   "source": [
    "S = \"Hello\""
   ]
  },
  {
   "cell_type": "code",
   "execution_count": null,
   "metadata": {},
   "outputs": [],
   "source": [
    "replace(S, \"H\", \"J\")"
   ]
  },
  {
   "cell_type": "code",
   "execution_count": null,
   "metadata": {},
   "outputs": [],
   "source": [
    "a = 3"
   ]
  },
  {
   "cell_type": "code",
   "execution_count": null,
   "metadata": {},
   "outputs": [],
   "source": [
    "string(S, \" \", S, \" \", \"Julia; a = \", a)  # build a string by concatenating things"
   ]
  },
  {
   "cell_type": "markdown",
   "metadata": {},
   "source": [
    "More about strings: <a href=\"http://docs.julialang.org/en/stable/manual/strings/\"> Julia Doc on Strings </a>"
   ]
  },
  {
   "cell_type": "markdown",
   "metadata": {},
   "source": [
    "Functions in Julia try to be **generic**, i.e. to work with as many kinds of object as possible:"
   ]
  },
  {
   "cell_type": "code",
   "execution_count": null,
   "metadata": {},
   "outputs": [],
   "source": [
    "A = fill(\"Julia\", 5, 5)"
   ]
  },
  {
   "cell_type": "markdown",
   "metadata": {},
   "source": [
    "Julia allows us to display objects in different ways. For example, the following code displays a matrix of strings in the notebook using an HTML representation:"
   ]
  },
  {
   "cell_type": "code",
   "execution_count": null,
   "metadata": {
    "collapsed": true
   },
   "outputs": [],
   "source": [
    "function Base.show{T<:String}(io::IO, ::MIME\"text/html\", M::Matrix{T}) \n",
    "    max_length = maximum(length.(M))\n",
    "    dv = \"<div style='display:flex;flex-direction:row'>\"\n",
    "    print(io,\n",
    "        dv*join(\n",
    "            [join(\n",
    "                \"<div style='width:40px; text-align:center; color:red'>\".*M[i,:].*\"</div>\",\n",
    "                \" \") for i in 1:size(M, 1)]\n",
    "            , \"</div>$dv\")*\"</div>\")\n",
    "end"
   ]
  },
  {
   "cell_type": "code",
   "execution_count": null,
   "metadata": {},
   "outputs": [],
   "source": [
    "A"
   ]
  },
  {
   "cell_type": "code",
   "execution_count": null,
   "metadata": {},
   "outputs": [],
   "source": [
    "# Remember this ????\n",
    "A = fill(0, 10, 10)\n",
    "n = size(A, 1)\n",
    "\n",
    "@manipulate for i in 1:n-2, j in 1:n-2\n",
    "    insert_block(A, i,j)\n",
    "end"
   ]
  },
  {
   "cell_type": "markdown",
   "metadata": {},
   "source": [
    "Let's use the **same code**, but now with strings:"
   ]
  },
  {
   "cell_type": "code",
   "execution_count": null,
   "metadata": {},
   "outputs": [],
   "source": [
    "A = fill(\"Julia\", 10, 10)\n",
    "n = size(A, 1)\n",
    "\n",
    "@manipulate for i in 1:n-2, j in 1:n-2\n",
    "    insert_block(A, i,j, \"####\")\n",
    "end"
   ]
  },
  {
   "cell_type": "code",
   "execution_count": null,
   "metadata": {},
   "outputs": [],
   "source": [
    "@manipulate for i in 1:n-2, j in 1:n-2\n",
    "    insert_block(A, i, j, \"π\")\n",
    "end"
   ]
  },
  {
   "cell_type": "markdown",
   "metadata": {},
   "source": [
    "# Colors"
   ]
  },
  {
   "cell_type": "markdown",
   "metadata": {},
   "source": [
    "The `Colors` package provides objects representing colours:"
   ]
  },
  {
   "cell_type": "code",
   "execution_count": null,
   "metadata": {},
   "outputs": [],
   "source": [
    "#Pkg.add(\"Colors\")\n",
    "using Colors"
   ]
  },
  {
   "cell_type": "code",
   "execution_count": null,
   "metadata": {},
   "outputs": [],
   "source": [
    "distinguishable_colors(12)"
   ]
  },
  {
   "cell_type": "code",
   "execution_count": null,
   "metadata": {},
   "outputs": [],
   "source": [
    "@manipulate for n = 1:80\n",
    "    distinguishable_colors(n)\n",
    "end"
   ]
  },
  {
   "cell_type": "code",
   "execution_count": null,
   "metadata": {},
   "outputs": [],
   "source": [
    "colors = distinguishable_colors(100)"
   ]
  },
  {
   "cell_type": "markdown",
   "metadata": {},
   "source": [
    "What happens if we use colors instead?"
   ]
  },
  {
   "cell_type": "code",
   "execution_count": null,
   "metadata": {
    "scrolled": true
   },
   "outputs": [],
   "source": [
    "A = fill(colors[1], 10, 10)\n",
    "n = size(A, 1)\n",
    "\n",
    "@manipulate for i in 1:n-2, j in 1:n-2\n",
    "    insert_block(A, i, j, colors[4])\n",
    "end"
   ]
  },
  {
   "cell_type": "code",
   "execution_count": null,
   "metadata": {},
   "outputs": [],
   "source": [
    "x = colors[1].r"
   ]
  },
  {
   "cell_type": "code",
   "execution_count": null,
   "metadata": {},
   "outputs": [],
   "source": [
    "typeof(x)"
   ]
  }
 ],
 "metadata": {
  "anaconda-cloud": {},
  "kernelspec": {
   "display_name": "Julia 0.6.2-pre",
   "language": "julia",
   "name": "julia-0.6"
  },
  "language_info": {
   "file_extension": ".jl",
   "mimetype": "application/julia",
   "name": "julia",
   "version": "0.6.2"
  },
  "toc": {
   "colors": {
    "hover_highlight": "#DAA520",
    "running_highlight": "#FF0000",
    "selected_highlight": "#FFD700"
   },
   "moveMenuLeft": true,
   "nav_menu": {
    "height": "248px",
    "width": "252px"
   },
   "navigate_menu": true,
   "number_sections": true,
   "sideBar": true,
   "threshold": "2",
   "toc_cell": false,
   "toc_section_display": "block",
   "toc_window_display": false
  },
  "widgets": {
   "state": {
    "1c1567e8-b371-4083-adb0-00cacd0cf996": {
     "views": [
      {
       "cell_index": 65
      }
     ]
    },
    "1ce69ceb-6dbf-4213-add9-a61a1431dfd8": {
     "views": [
      {
       "cell_index": 63
      }
     ]
    },
    "1fd5c3b5-af84-4bb5-8fab-e3b457215ea7": {
     "views": [
      {
       "cell_index": 50
      }
     ]
    },
    "225c49cd-c1a4-4efa-bef8-25e18ae8471e": {
     "views": [
      {
       "cell_index": 35
      }
     ]
    },
    "2688ab34-5ea6-42e2-a1ec-2eaac2beb5be": {
     "views": [
      {
       "cell_index": 65
      }
     ]
    },
    "2861e31d-0710-47f1-9fc8-5c046b12e1c1": {
     "views": [
      {
       "cell_index": 69
      }
     ]
    },
    "2d550904-6bac-47ee-8351-1f80c127b37f": {
     "views": [
      {
       "cell_index": 78
      }
     ]
    },
    "341a1d91-4ca2-4611-96c5-102107f4a246": {
     "views": [
      {
       "cell_index": 69
      }
     ]
    },
    "3bdbe5ba-b210-429d-8109-e0a27534289f": {
     "views": [
      {
       "cell_index": 74
      }
     ]
    },
    "4620546a-e1d9-4b73-b9df-97ce11db924f": {
     "views": [
      {
       "cell_index": 50
      }
     ]
    },
    "4b54216b-faa7-4573-93eb-4f14bf2c6ef7": {
     "views": [
      {
       "cell_index": 78
      }
     ]
    },
    "4d29f9a3-e927-4a1f-8b21-fd1344ac5fb7": {
     "views": [
      {
       "cell_index": 78
      }
     ]
    },
    "543879ea-dfa9-4ebb-b9d9-c0e737cfac91": {
     "views": [
      {
       "cell_index": 66
      }
     ]
    },
    "5f02bb9e-54dd-4477-8e64-1d5d10b0773f": {
     "views": [
      {
       "cell_index": 76
      }
     ]
    },
    "640938a0-7698-4834-9f1e-63c5aa25cb3a": {
     "views": [
      {
       "cell_index": 65
      }
     ]
    },
    "6c79ce05-86fd-4030-ab00-1de926652deb": {
     "views": [
      {
       "cell_index": 65
      }
     ]
    },
    "6de5efef-e7a0-41c3-a52b-4e3d15bb0e78": {
     "views": [
      {
       "cell_index": 76
      }
     ]
    },
    "7aa5bfe9-f931-4d75-9c81-b13eb96c6889": {
     "views": [
      {
       "cell_index": 65
      }
     ]
    },
    "9c096e59-ac3f-493c-a794-953b243280e8": {
     "views": [
      {
       "cell_index": 69
      }
     ]
    },
    "a66a547d-4e0f-453d-9e96-407fe978583d": {
     "views": [
      {
       "cell_index": 65
      }
     ]
    },
    "b2d7f954-8737-4226-9573-45314d0c5825": {
     "views": [
      {
       "cell_index": 32
      }
     ]
    },
    "b859f6a4-d042-4ea7-98ed-c066660ff129": {
     "views": [
      {
       "cell_index": 65
      }
     ]
    },
    "bd96936c-b0f8-4c13-b5f4-0459aaf9ce93": {
     "views": [
      {
       "cell_index": 66
      }
     ]
    },
    "bde554d4-18b0-4440-af61-36b5750fc2c2": {
     "views": [
      {
       "cell_index": 63
      }
     ]
    },
    "c74ab572-d4fa-4bb0-a51a-8dde01402694": {
     "views": [
      {
       "cell_index": 67
      }
     ]
    },
    "ca2051c9-4fdf-401e-8d41-671ae05ab272": {
     "views": [
      {
       "cell_index": 78
      }
     ]
    },
    "e6b87473-b568-4cdf-af88-3b7a1a92f92d": {
     "views": [
      {
       "cell_index": 67
      }
     ]
    },
    "f3f14ab0-55f4-4172-8103-114f7e5a93ed": {
     "views": [
      {
       "cell_index": 35
      }
     ]
    },
    "f8ed3955-d6a4-4dce-854d-991b919cab66": {
     "views": [
      {
       "cell_index": 33
      }
     ]
    },
    "f9b4eb99-3c75-4bf7-bef1-efa8c9ed9250": {
     "views": [
      {
       "cell_index": 65
      }
     ]
    },
    "fe462d26-302e-4121-b48a-cdbb51f750fa": {
     "views": [
      {
       "cell_index": 35
      }
     ]
    }
   },
   "version": "1.2.0"
  }
 },
 "nbformat": 4,
 "nbformat_minor": 2
}
