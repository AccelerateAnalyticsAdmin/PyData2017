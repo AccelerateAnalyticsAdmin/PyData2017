{
 "cells": [
  {
   "cell_type": "markdown",
   "metadata": {},
   "source": [
    "# Exploring the Julia Set in Julia"
   ]
  },
  {
   "cell_type": "code",
   "execution_count": null,
   "metadata": {},
   "outputs": [],
   "source": [
    "const maxiter = 100\n",
    "\n",
    "function julia(z, c)\n",
    "    for n = 1:maxiter\n",
    "        abs2(z) > 4 && return n-1\n",
    "#         if abs2(z) > 4\n",
    "#             return n-1\n",
    "#         end\n",
    "        z = z*z + c\n",
    "    end\n",
    "    return maxiter\n",
    "end"
   ]
  },
  {
   "cell_type": "code",
   "execution_count": null,
   "metadata": {},
   "outputs": [],
   "source": [
    "julia(-0.06 + .62im, -0.02 + .66im)"
   ]
  },
  {
   "cell_type": "code",
   "execution_count": null,
   "metadata": {},
   "outputs": [],
   "source": [
    "julia(1, 2)"
   ]
  },
  {
   "cell_type": "code",
   "execution_count": null,
   "metadata": {},
   "outputs": [],
   "source": [
    "julia(\"foo\", \"bar\")"
   ]
  },
  {
   "cell_type": "code",
   "execution_count": null,
   "metadata": {},
   "outputs": [],
   "source": [
    "[julia(r + i*im, -0.06 + .665im) for r=-1:.002:1, i=-0.5:.002:0.5]"
   ]
  },
  {
   "cell_type": "code",
   "execution_count": null,
   "metadata": {},
   "outputs": [],
   "source": [
    "@code_native julia(-0.02 + .7im, -0.06 + .665im)"
   ]
  },
  {
   "cell_type": "code",
   "execution_count": null,
   "metadata": {},
   "outputs": [],
   "source": [
    "versioninfo()"
   ]
  },
  {
   "cell_type": "code",
   "execution_count": null,
   "metadata": {
    "collapsed": true
   },
   "outputs": [],
   "source": [
    "using Colors, Images"
   ]
  },
  {
   "cell_type": "code",
   "execution_count": null,
   "metadata": {},
   "outputs": [],
   "source": [
    "const cmap = convert(Vector{RGB{N0f8}}, colormap(\"RdBu\", 100))"
   ]
  },
  {
   "cell_type": "code",
   "execution_count": null,
   "metadata": {},
   "outputs": [],
   "source": [
    "typeof(ans)"
   ]
  },
  {
   "cell_type": "code",
   "execution_count": null,
   "metadata": {},
   "outputs": [],
   "source": [
    "px = cmap[75]"
   ]
  },
  {
   "cell_type": "code",
   "execution_count": null,
   "metadata": {},
   "outputs": [],
   "source": [
    "dump(px)"
   ]
  },
  {
   "cell_type": "code",
   "execution_count": null,
   "metadata": {},
   "outputs": [],
   "source": [
    "px.r"
   ]
  },
  {
   "cell_type": "code",
   "execution_count": null,
   "metadata": {},
   "outputs": [],
   "source": [
    "px.r + px.b"
   ]
  },
  {
   "cell_type": "code",
   "execution_count": null,
   "metadata": {},
   "outputs": [],
   "source": [
    "max(px.r, px.b)"
   ]
  },
  {
   "cell_type": "code",
   "execution_count": null,
   "metadata": {},
   "outputs": [],
   "source": [
    "@code_native px.r + px.b"
   ]
  },
  {
   "cell_type": "code",
   "execution_count": null,
   "metadata": {},
   "outputs": [],
   "source": [
    "@which px.r + px.b"
   ]
  },
  {
   "cell_type": "code",
   "execution_count": null,
   "metadata": {},
   "outputs": [],
   "source": [
    "[cmap[julia(r + i*im, -0.06 + .68im)] for r=-1.5:.005:1.5, i=-1:.005:1].'"
   ]
  },
  {
   "cell_type": "code",
   "execution_count": null,
   "metadata": {},
   "outputs": [],
   "source": [
    "img = [cmap[julia(r + i*im, r + i*im)] for r=-1.5:.005:1.5, i=-1:.005:1].'"
   ]
  },
  {
   "cell_type": "code",
   "execution_count": null,
   "metadata": {
    "collapsed": true
   },
   "outputs": [],
   "source": [
    "using Unitful, AxisArrays\n",
    "using Unitful: mm, s"
   ]
  },
  {
   "cell_type": "code",
   "execution_count": null,
   "metadata": {},
   "outputs": [],
   "source": [
    "img = AxisArray(rand(128, 128, 10, 10), (:x, :y, :z, :time), (0.4mm, 0.4mm, 1mm, 2s))"
   ]
  },
  {
   "cell_type": "code",
   "execution_count": null,
   "metadata": {},
   "outputs": [],
   "source": [
    "using Interact"
   ]
  },
  {
   "cell_type": "code",
   "execution_count": null,
   "metadata": {},
   "outputs": [],
   "source": [
    "@manipulate for r′ = -0.1:0.01:0.1, i′ = 0.65:0.01:0.85\n",
    "    [cmap[julia(r + i*im, r′ + i′*im)] for r=-1.5:.005:1.5, i=-1:.005:1].'\n",
    "end"
   ]
  },
  {
   "cell_type": "code",
   "execution_count": null,
   "metadata": {},
   "outputs": [],
   "source": [
    "let R = -1.5:.005:1.5, I = -1:.005:1\n",
    "    img = Array{RGB{N0f8}}(length(I), length(R))\n",
    "    @manipulate for r′ = -0.1:0.01:0.1, i′ = 0.65:0.01:0.85\n",
    "        for (j,r) in enumerate(R), (k,i) in enumerate(I)\n",
    "            img[k,j] = cmap[julia(r + i*im, r′ + i′*im)]\n",
    "        end\n",
    "        img\n",
    "    end\n",
    "end"
   ]
  },
  {
   "cell_type": "code",
   "execution_count": null,
   "metadata": {
    "collapsed": true
   },
   "outputs": [],
   "source": [
    "using Base.Threads\n",
    "\n",
    "let R = -1.5:.005:1.5, I = -1:.005:1\n",
    "    img = Array{RGB{N0f8}}(length(I), length(R))\n",
    "    @manipulate for r′ = -0.1:0.01:0.1, i′ = 0.65:0.01:0.85\n",
    "        @threads for j = 1:length(R)\n",
    "            r = R[j]\n",
    "            for k = 1:length(I)\n",
    "                i = I[k]\n",
    "                img[k,j] = cmap[julia(r + i*im, r′ + i′*im)]\n",
    "            end\n",
    "        end\n",
    "        img\n",
    "    end\n",
    "end"
   ]
  },
  {
   "cell_type": "code",
   "execution_count": null,
   "metadata": {
    "collapsed": true
   },
   "outputs": [],
   "source": [
    "let x = something, y = other\n",
    "    body\n",
    "end\n",
    "\n",
    "# equivalent to\n",
    "\n",
    "((x,y) -> body)(something, other)"
   ]
  },
  {
   "cell_type": "code",
   "execution_count": null,
   "metadata": {
    "collapsed": true
   },
   "outputs": [],
   "source": [
    "Base.Threads.nthreads()"
   ]
  },
  {
   "cell_type": "code",
   "execution_count": null,
   "metadata": {
    "collapsed": true
   },
   "outputs": [],
   "source": []
  }
 ],
 "metadata": {
  "anaconda-cloud": {},
  "kernelspec": {
   "display_name": "Julia 0.6.2-pre",
   "language": "julia",
   "name": "julia-0.6"
  },
  "language_info": {
   "file_extension": ".jl",
   "mimetype": "application/julia",
   "name": "julia",
   "version": "0.6.2"
  },
  "widgets": {
   "state": {
    "094b0143-a91b-4189-9a7b-748238feab2c": {
     "views": [
      {
       "cell_index": 23
      }
     ]
    },
    "34b8826f-8197-4164-8813-20fd6d9efad7": {
     "views": [
      {
       "cell_index": 24
      }
     ]
    },
    "457990f3-828a-4d59-9b0b-40493cf00200": {
     "views": [
      {
       "cell_index": 23
      }
     ]
    },
    "942b54de-72d5-4622-9f32-3dfb9bc26575": {
     "views": [
      {
       "cell_index": 22
      }
     ]
    },
    "a7b686a9-d4e4-4210-aa7e-5e5f60181fd0": {
     "views": [
      {
       "cell_index": 24
      }
     ]
    },
    "c88baa0c-52f4-491e-b57c-e72d28649dc4": {
     "views": [
      {
       "cell_index": 22
      }
     ]
    }
   },
   "version": "1.2.0"
  }
 },
 "nbformat": 4,
 "nbformat_minor": 1
}
